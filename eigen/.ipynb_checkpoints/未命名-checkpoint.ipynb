{
 "cells": [
  {
   "cell_type": "code",
   "execution_count": null,
   "id": "3b0490d9-24ac-470d-ae9d-3ea7a0304a99",
   "metadata": {},
   "outputs": [],
   "source": [
    "#include <iostream>\n",
    "#include<Eigen/Core>\n",
    "#include<Eigen/Geometry>\n",
    "#include \"/usr/include/Eigen/Dense\"\n",
    "#include <sophus/so3.hpp>\n",
    "#include <sophus/so2.hpp>"
   ]
  },
  {
   "cell_type": "code",
   "execution_count": null,
   "id": "65ec364c-9de9-40ba-82f4-dd3aacf0b028",
   "metadata": {},
   "outputs": [],
   "source": [
    "前三维是位置，后三维是角度"
   ]
  },
  {
   "cell_type": "code",
   "execution_count": null,
   "id": "3742deeb-007c-4122-8db2-8a48d20230af",
   "metadata": {},
   "outputs": [],
   "source": []
  },
  {
   "cell_type": "code",
   "execution_count": null,
   "id": "6c71f6d2-f73b-41fc-88c9-a77dea951f84",
   "metadata": {},
   "outputs": [],
   "source": []
  }
 ],
 "metadata": {
  "kernelspec": {
   "display_name": "C++14",
   "language": "C++14",
   "name": "xcpp14"
  },
  "language_info": {
   "codemirror_mode": "text/x-c++src",
   "file_extension": ".cpp",
   "mimetype": "text/x-c++src",
   "name": "c++",
   "version": "14"
  }
 },
 "nbformat": 4,
 "nbformat_minor": 5
}
