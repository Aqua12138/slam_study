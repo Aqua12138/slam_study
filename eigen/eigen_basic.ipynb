{
 "cells": [
  {
   "cell_type": "code",
   "execution_count": 1,
   "id": "5eb9626f-b28d-4871-b909-223adee66321",
   "metadata": {},
   "outputs": [],
   "source": [
    "#include<iostream>\n",
    "#include \"/usr/include/Eigen/Dense\"\n",
    "#include \"/usr/include/Eigen/Core\"\n",
    "#include<ctime>\n",
    "using namespace std;"
   ]
  },
  {
   "cell_type": "code",
   "execution_count": 2,
   "id": "04daa7ed-5af5-40d8-b37d-e5eb6f2ed949",
   "metadata": {},
   "outputs": [],
   "source": [
    "#define MATRIX_SIZE 50"
   ]
  },
  {
   "cell_type": "code",
   "execution_count": 3,
   "id": "a10b5c99-7dbf-4a88-9e3b-1221019623dd",
   "metadata": {},
   "outputs": [],
   "source": [
    "//本程序演示eigen的基本使用方法"
   ]
  },
  {
   "cell_type": "code",
   "execution_count": 4,
   "id": "7db741be-51a1-461d-bd96-c9096971e797",
   "metadata": {},
   "outputs": [],
   "source": [
    "//声明一个2行3列的flolat类型矩阵\n",
    "Eigen::Matrix<float,2,3> matrix_23;"
   ]
  },
  {
   "cell_type": "code",
   "execution_count": 5,
   "id": "e6f1f0bf-ccb6-4f35-8abe-30084b666b99",
   "metadata": {},
   "outputs": [],
   "source": [
    "//eigen可以通过typedef提供许多内置类型，但底层是Eigen：：Matrix\n",
    "//例如 Vector3d实质上是Eigen：：Matrix<double,3,1>\n",
    "Eigen::Vector3d v_3d ;"
   ]
  },
  {
   "cell_type": "code",
   "execution_count": 6,
   "id": "e3516e47-20dd-467a-b863-68dfa38816fb",
   "metadata": {},
   "outputs": [],
   "source": [
    "//Matrix3d实|上是Eigen：：Matrix<double,3,3>\n",
    "Eigen::Matrix3d matrix_33 = Eigen::Matrix3d::Zero();//初始化为0"
   ]
  },
  {
   "cell_type": "code",
   "execution_count": 7,
   "id": "55c8dca6-f1db-4e81-a682-cbf10d4c4a8c",
   "metadata": {},
   "outputs": [],
   "source": [
    "//不确定矩阵大小可以使用动态矩阵\n",
    "Eigen::Matrix<double,Eigen::Dynamic,Eigen::Dynamic>matrix_dynamic;\n",
    "//或者\n",
    "Eigen::MatrixXd matrix_x;"
   ]
  },
  {
   "cell_type": "code",
   "execution_count": 8,
   "id": "5d76152f-f359-491f-87bb-51c57c6cecbb",
   "metadata": {},
   "outputs": [
    {
     "data": {
      "text/plain": [
       "@0x7ffe2d12a3c8"
      ]
     },
     "execution_count": 8,
     "metadata": {},
     "output_type": "execute_result"
    }
   ],
   "source": [
    "//矩阵操作\n",
    "//输入数据\n",
    "matrix_23 << 1,2,3,4,5,6"
   ]
  },
  {
   "cell_type": "code",
   "execution_count": 9,
   "id": "e34f75ea-24e3-4853-9800-7ab04e642e0d",
   "metadata": {},
   "outputs": [
    {
     "name": "stdout",
     "output_type": "stream",
     "text": [
      "1 2 3\n",
      "4 5 6\n"
     ]
    }
   ],
   "source": [
    "//输出\n",
    "cout<<matrix_23<<endl;"
   ]
  },
  {
   "cell_type": "code",
   "execution_count": 10,
   "id": "09996983-e175-4b45-abbb-e23c6874829e",
   "metadata": {},
   "outputs": [
    {
     "name": "stdout",
     "output_type": "stream",
     "text": [
      "1\n",
      "2\n",
      "3\n",
      "4\n",
      "5\n",
      "6\n"
     ]
    }
   ],
   "source": [
    "//使用（）访问矩阵中的数据\n",
    "for (int i = 0 ;i<2;i++)\n",
    "{\n",
    "    for(int j = 0;j<3;j++)\n",
    "    {\n",
    "        cout<<matrix_23(i,j)<<endl;\n",
    "    }\n",
    "}"
   ]
  },
  {
   "cell_type": "code",
   "execution_count": 11,
   "id": "1e85ab9e-d4e3-4fff-a11e-699e3c059b28",
   "metadata": {},
   "outputs": [],
   "source": [
    "//矩阵和向量的相乘,注意，不能使用两种数据类型的矩阵相乘\n",
    "//使用显示转换将matrix_23转换为double,同时接受数据的矩阵维度要正确，在这里里是2*3矩阵乘3*1矩阵得到2*1矩阵\n",
    "Eigen::Matrix<double,2,1>result = matrix_23.cast<double>() * v_3d;"
   ]
  },
  {
   "cell_type": "code",
   "execution_count": 12,
   "id": "2ac3fad4-8439-42a4-8e01-b71a3ba6731c",
   "metadata": {},
   "outputs": [],
   "source": [
    "//四则运算用对应的符号就可以"
   ]
  },
  {
   "cell_type": "code",
   "execution_count": 13,
   "id": "1f4f053c-3b8f-42cb-98a5-f7296bc117f1",
   "metadata": {},
   "outputs": [
    {
     "name": "stdout",
     "output_type": "stream",
     "text": [
      "-0.950328 -0.808194 -0.231711\n",
      " 0.333116   -0.6509 0.0804358\n",
      " 0.509803 -0.361092 -0.737227\n"
     ]
    }
   ],
   "source": [
    "matrix_33 = Eigen::Matrix3d::Random();//随机赋值-1~1的小数\n",
    "cout<<matrix_33<<endl;"
   ]
  },
  {
   "cell_type": "code",
   "execution_count": 14,
   "id": "c075ac18-2e36-4cf2-8a3b-19cbf4376017",
   "metadata": {},
   "outputs": [
    {
     "name": "stdout",
     "output_type": "stream",
     "text": [
      "-0.950328  0.333116  0.509803\n",
      "-0.808194   -0.6509 -0.361092\n",
      "-0.231711 0.0804358 -0.737227\n"
     ]
    },
    {
     "data": {
      "text/plain": [
       "@0x7fdcb3817ba0"
      ]
     },
     "execution_count": 14,
     "metadata": {},
     "output_type": "execute_result"
    }
   ],
   "source": [
    "//基础矩阵运算\n",
    "cout<<matrix_33.transpose()<<endl;//转置，深拷贝"
   ]
  },
  {
   "cell_type": "code",
   "execution_count": 15,
   "id": "e162fb5b-3c0d-446a-9c5f-29fa3332713a",
   "metadata": {},
   "outputs": [
    {
     "name": "stdout",
     "output_type": "stream",
     "text": [
      "-2.8161\n"
     ]
    },
    {
     "data": {
      "text/plain": [
       "@0x7fdcb3817ba0"
      ]
     },
     "execution_count": 15,
     "metadata": {},
     "output_type": "execute_result"
    }
   ],
   "source": [
    "cout<<matrix_33.sum()<<endl;//个元素之和"
   ]
  },
  {
   "cell_type": "code",
   "execution_count": 16,
   "id": "2552014b-1ddd-4968-a1b2-0d6018f7200a",
   "metadata": {},
   "outputs": [
    {
     "name": "stdout",
     "output_type": "stream",
     "text": [
      "-2.33846\n"
     ]
    },
    {
     "data": {
      "text/plain": [
       "@0x7fdcb3817ba0"
      ]
     },
     "execution_count": 16,
     "metadata": {},
     "output_type": "execute_result"
    }
   ],
   "source": [
    "cout<<matrix_33.trace()<<endl;//迹"
   ]
  },
  {
   "cell_type": "code",
   "execution_count": 17,
   "id": "3edd72a8-63d8-4c00-a5f8-af7b7a7c38e6",
   "metadata": {},
   "outputs": [
    {
     "name": "stdout",
     "output_type": "stream",
     "text": [
      "-9.50328 -8.08194 -2.31711\n",
      " 3.33116   -6.509 0.804358\n",
      " 5.09803 -3.61092 -7.37227\n"
     ]
    },
    {
     "data": {
      "text/plain": [
       "@0x7fdcb3817ba0"
      ]
     },
     "execution_count": 17,
     "metadata": {},
     "output_type": "execute_result"
    }
   ],
   "source": [
    "cout<<10*matrix_33<<endl;//数乘"
   ]
  },
  {
   "cell_type": "code",
   "execution_count": 18,
   "id": "810ac158-2bb9-43f0-81a7-c6271cb321e8",
   "metadata": {},
   "outputs": [
    {
     "name": "stdout",
     "output_type": "stream",
     "text": [
      "  -0.665877    0.670127    0.282401\n",
      "  -0.374986    -1.07127 0.000976498\n",
      "  -0.276796    0.988108    -1.16163\n"
     ]
    },
    {
     "data": {
      "text/plain": [
       "@0x7fdcb3817ba0"
      ]
     },
     "execution_count": 18,
     "metadata": {},
     "output_type": "execute_result"
    }
   ],
   "source": [
    "cout<<matrix_33.inverse()<<endl;//逆"
   ]
  },
  {
   "cell_type": "code",
   "execution_count": 19,
   "id": "3e19ebea-00b5-473d-8e73-fc773fb7236e",
   "metadata": {},
   "outputs": [
    {
     "name": "stdout",
     "output_type": "stream",
     "text": [
      "-0.764264\n"
     ]
    },
    {
     "data": {
      "text/plain": [
       "@0x7fdcb3817ba0"
      ]
     },
     "execution_count": 19,
     "metadata": {},
     "output_type": "execute_result"
    }
   ],
   "source": [
    "cout<<matrix_33.determinant()<<endl;//行列式"
   ]
  },
  {
   "cell_type": "code",
   "execution_count": 20,
   "id": "8db17a70-649b-4a22-a788-c11cfde37879",
   "metadata": {},
   "outputs": [
    {
     "name": "stdout",
     "output_type": "stream",
     "text": [
      "Eigen values = \n",
      "0.315954\n",
      " 1.12358\n",
      " 1.64536\n",
      "Eigen vectors = \n",
      " 0.298296   0.69644 -0.652679\n",
      "-0.491186 -0.474306 -0.730596\n",
      " 0.818386 -0.538521 -0.200598\n"
     ]
    }
   ],
   "source": [
    "//特征值\n",
    "//实对陈矩阵可以保证对角化成功\n",
    "Eigen::SelfAdjointEigenSolver<Eigen::Matrix3d> eigen_solver (matrix_33.transpose()*matrix_33);\n",
    "cout<<\"Eigen values = \\n\"<<eigen_solver.eigenvalues()<<endl;\n",
    "cout<<\"Eigen vectors = \\n\"<<eigen_solver.eigenvectors()<<endl;"
   ]
  },
  {
   "cell_type": "code",
   "execution_count": 21,
   "id": "2a4647b5-7510-421b-8697-2e6c0f7c017b",
   "metadata": {},
   "outputs": [],
   "source": [
    "//解方程\n",
    "//求解matrx_NN * x = v_Nd这个方程\n",
    "Eigen::Matrix<double,MATRIX_SIZE,MATRIX_SIZE> matrix_NN;\n",
    "matrix_NN = Eigen::MatrixXd::Random(MATRIX_SIZE,MATRIX_SIZE);//用动态矩阵的Random生成MATRIX_SIZE*MATRIX_SIZE的随即矩阵\n",
    "Eigen::Matrix<double,MATRIX_SIZE,1>v_Nd;\n",
    "v_Nd = Eigen::MatrixXd::Random(MATRIX_SIZE,1);\n",
    "// cout<<matrix_NN<<endl;\n",
    "// cout<<v_Nd<<endl;"
   ]
  },
  {
   "cell_type": "code",
   "execution_count": 22,
   "id": "3383b6d4-d180-4cbe-9a1c-ec9c089a9b84",
   "metadata": {},
   "outputs": [
    {
     "name": "stdout",
     "output_type": "stream",
     "text": [
      "time use in normal inverse is 2.017ms\n"
     ]
    }
   ],
   "source": [
    "//计时\n",
    "clock_t time_stt = clock();\n",
    "//直接求逆计算x\n",
    "Eigen::Matrix<double,MATRIX_SIZE,1> x = matrix_NN.inverse()*v_Nd;\n",
    "cout<<\"time use in normal inverse is \"<< 1000*(clock()-time_stt)/(double)CLOCKS_PER_SEC<<\"ms\"<<endl;"
   ]
  },
  {
   "cell_type": "code",
   "execution_count": 23,
   "id": "1e42e956-6649-4a75-9cef-15be94a28648",
   "metadata": {},
   "outputs": [
    {
     "name": "stdout",
     "output_type": "stream",
     "text": [
      "time use in Qr compsition is 2.197ms\n"
     ]
    }
   ],
   "source": [
    "//矩阵分解法求解\n",
    "time_stt = clock();\n",
    "x = matrix_NN.colPivHouseholderQr().solve(v_Nd);\n",
    "cout<<\"time use in Qr compsition is \"<<1000*(clock()-time_stt)/(double)CLOCKS_PER_SEC<<\"ms\"<<endl;"
   ]
  },
  {
   "cell_type": "code",
   "execution_count": 24,
   "id": "22500ca1-c22f-4430-b532-adc2bcece523",
   "metadata": {},
   "outputs": [],
   "source": [
    "#include <cmath>\n",
    "#include \"/usr/include/Eigen/Geometry\""
   ]
  },
  {
   "cell_type": "code",
   "execution_count": 25,
   "id": "daa67bf0-572c-4f44-bfd4-46b7ee920b76",
   "metadata": {},
   "outputs": [],
   "source": [
    "//几何模块的使用方法\n",
    "//创建一个旋转矩阵\n",
    "Eigen::Matrix3d rotation_matrix = Eigen::Matrix3d::Identity();"
   ]
  },
  {
   "cell_type": "code",
   "execution_count": 26,
   "id": "cf384df5-522b-43d1-9ea0-f67490f09efa",
   "metadata": {},
   "outputs": [
    {
     "name": "stdout",
     "output_type": "stream",
     "text": [
      "1 0 0\n",
      "0 1 0\n",
      "0 0 1\n"
     ]
    }
   ],
   "source": [
    "cout<<rotation_matrix<<endl;"
   ]
  },
  {
   "cell_type": "code",
   "execution_count": 27,
   "id": "2ba2528d-e47a-4262-a257-0c2e9cf82c70",
   "metadata": {},
   "outputs": [
    {
     "name": "stdout",
     "output_type": "stream",
     "text": [
      " 0.707107 -0.707107         0\n",
      " 0.707107  0.707107         0\n",
      "        0         0         1\n"
     ]
    }
   ],
   "source": [
    "Eigen::AngleAxisd rotation_vector (M_PI/4,Eigen::Vector3d(0,0,1));//表示绕着z轴旋转的度数\n",
    "cout<<rotation_vector.matrix()<<endl;"
   ]
  },
  {
   "cell_type": "code",
   "execution_count": 28,
   "id": "11e4f4da-7e3c-46d9-9448-fa23810845df",
   "metadata": {},
   "outputs": [
    {
     "data": {
      "text/plain": [
       "6"
      ]
     },
     "execution_count": 28,
     "metadata": {},
     "output_type": "execute_result"
    }
   ],
   "source": [
    "cout.precision(3)//设置输出的精度是三位有效数字"
   ]
  },
  {
   "cell_type": "code",
   "execution_count": 29,
   "id": "3bbf51e7-c064-49ad-9c6c-3cfc8e841067",
   "metadata": {},
   "outputs": [
    {
     "name": "stdout",
     "output_type": "stream",
     "text": [
      " 0.707 -0.707      0\n",
      " 0.707  0.707      0\n",
      "     0      0      1\n"
     ]
    }
   ],
   "source": [
    "//也可以直接赋值\n",
    "rotation_matrix = rotation_vector.toRotationMatrix();\n",
    "cout<<rotation_matrix<<endl;"
   ]
  },
  {
   "cell_type": "code",
   "execution_count": 30,
   "id": "3afe2c5c-5235-4783-992b-9925d2a6276f",
   "metadata": {},
   "outputs": [
    {
     "name": "stdout",
     "output_type": "stream",
     "text": [
      "(1,0,0) after rotation = 0.707 0.707     0\n"
     ]
    }
   ],
   "source": [
    "//用旋转向量可以进行坐标变换\n",
    "Eigen::Vector3d v (1,0,0);\n",
    "Eigen::Vector3d v_rotated = rotation_vector * v;//不能输出旋转向量\n",
    "cout<<\"(1,0,0) after rotation = \"<<v_rotated.transpose()<<endl;"
   ]
  },
  {
   "cell_type": "code",
   "execution_count": 31,
   "id": "b231b23f-997d-4ce0-820f-9337e17d114c",
   "metadata": {},
   "outputs": [
    {
     "name": "stdout",
     "output_type": "stream",
     "text": [
      "(1,0,0) after rotation = 0.707 0.707     0\n"
     ]
    }
   ],
   "source": [
    "//或者用旋转矩阵\n",
    "v_rotated = rotation_matrix*v;\n",
    "cout<<\"(1,0,0) after rotation = \"<<v_rotated.transpose()<<endl;"
   ]
  },
  {
   "cell_type": "code",
   "execution_count": 32,
   "id": "6635d3c5-81e9-4968-9538-e9da0081388f",
   "metadata": {},
   "outputs": [
    {
     "name": "stdout",
     "output_type": "stream",
     "text": [
      "yaw pitch roll = 0.785    -0     0\n"
     ]
    }
   ],
   "source": [
    "//欧拉角：可以将旋转矩阵直接转换成欧拉角\n",
    "Eigen::Vector3d euler_angles = rotation_matrix.eulerAngles(2,1,0);//ZYX顺序\n",
    "cout<<\"yaw pitch roll = \" <<euler_angles.transpose()<<endl;"
   ]
  },
  {
   "cell_type": "code",
   "execution_count": 33,
   "id": "4bae3fe2-70a6-4f67-a347-c6d73c946ee8",
   "metadata": {},
   "outputs": [
    {
     "name": "stdout",
     "output_type": "stream",
     "text": [
      "T = \n",
      "1 0 0 0\n",
      "0 1 0 0\n",
      "0 0 1 0\n",
      "0 0 0 1\n",
      "Transform matrix = \n",
      " 0.707 -0.707      0      1\n",
      " 0.707  0.707      0      3\n",
      "     0      0      1      4\n",
      "     0      0      0      1\n"
     ]
    }
   ],
   "source": [
    "//变换矩阵4*4\n",
    "Eigen::Isometry3d T=Eigen::Isometry3d::Identity();//单位化一个4*4矩阵\n",
    "cout<<\"T = \\n\"<<T.matrix()<<endl;\n",
    "T.rotate(rotation_matrix);//按照rotation_vector/rotation_matrix进行旋转\n",
    "T.pretranslate(Eigen::Vector3d(1,3,4));//把平移向量设置成（1，3，4）\n",
    "cout<<\"Transform matrix = \\n\"<<T.matrix()<<endl;"
   ]
  },
  {
   "cell_type": "code",
   "execution_count": 34,
   "id": "c645670a-3ac4-4092-8dcc-e788cd0f8514",
   "metadata": {},
   "outputs": [
    {
     "name": "stdout",
     "output_type": "stream",
     "text": [
      "v transformed = \n",
      "1.71 3.71    4\n"
     ]
    },
    {
     "data": {
      "text/plain": [
       "@0x7fdcb3817ba0"
      ]
     },
     "execution_count": 34,
     "metadata": {},
     "output_type": "execute_result"
    }
   ],
   "source": [
    "//变换矩阵进行坐标变换\n",
    "Eigen::Vector3d v_transformed = T*v;//相当于R*v+t\n",
    "cout<<\"v transformed = \\n\"<<v_transformed.transpose()<<endl;//输出的是v在v_transofomed坐标变换后的坐标系下的坐标"
   ]
  },
  {
   "cell_type": "code",
   "execution_count": 35,
   "id": "fc1a28e0-c18f-4128-bde0-91a0febe31a9",
   "metadata": {},
   "outputs": [],
   "source": [
    "//对于仿射和射影变换，使用Eigen::Affine3d和Eigen::Projective3d即可"
   ]
  },
  {
   "cell_type": "code",
   "execution_count": 36,
   "id": "3fc482a5-3134-46bd-8d2d-dddc414d5b60",
   "metadata": {},
   "outputs": [
    {
     "name": "stdout",
     "output_type": "stream",
     "text": [
      "quaternion = \n",
      "    0\n",
      "    0\n",
      "0.383\n",
      "0.924\n"
     ]
    },
    {
     "data": {
      "text/plain": [
       "@0x7fdcb3817ba0"
      ]
     },
     "execution_count": 36,
     "metadata": {},
     "output_type": "execute_result"
    }
   ],
   "source": [
    "//四元数\n",
    "//可以直接把 矩阵向量赋值给四元数，反之亦然\n",
    "Eigen::Quaterniond q = Eigen::Quaterniond(rotation_vector);\n",
    "cout<<\"quaternion = \\n\"<<q.coeffs()<<endl;//coeffs的顺序是(x,y,z,w)w是实部"
   ]
  },
  {
   "cell_type": "code",
   "execution_count": 37,
   "id": "b6252b84-690b-4ef2-ade4-a8f4507dea1b",
   "metadata": {},
   "outputs": [
    {
     "name": "stdout",
     "output_type": "stream",
     "text": [
      "(1,0,0) after rotation = 0.707 0.707     0\n"
     ]
    }
   ],
   "source": [
    "//也可以把旋转矩阵赋值给它\n",
    "q = Eigen::Quaterniond(rotation_matrix);\n",
    "//使用四元数旋转一个向量，使用重载乘法\n",
    "v_rotated = q*v;\n",
    "cout<<\"(1,0,0) after rotation = \"<<v_rotated.transpose()<<endl;"
   ]
  },
  {
   "cell_type": "code",
   "execution_count": null,
   "id": "4af3c9be-4774-47a0-8741-71ef5ff8566f",
   "metadata": {},
   "outputs": [],
   "source": []
  }
 ],
 "metadata": {
  "kernelspec": {
   "display_name": "C++14",
   "language": "C++14",
   "name": "xcpp14"
  },
  "language_info": {
   "codemirror_mode": "text/x-c++src",
   "file_extension": ".cpp",
   "mimetype": "text/x-c++src",
   "name": "c++",
   "version": "14"
  }
 },
 "nbformat": 4,
 "nbformat_minor": 5
}
